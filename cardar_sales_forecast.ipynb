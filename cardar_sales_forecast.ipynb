{
 "cells": [
  {
   "cell_type": "markdown",
   "id": "d35adc98",
   "metadata": {},
   "source": [
    "# CarDar Trading - Sales Forecasting Project"
   ]
  },
  {
   "cell_type": "markdown",
   "id": "6b2d94f6",
   "metadata": {},
   "source": [
    "## 1. Import libraries"
   ]
  },
  {
   "cell_type": "code",
   "execution_count": null,
   "id": "6258008a",
   "metadata": {},
   "outputs": [],
   "source": [
    "import pandas as pd\n",
    "import numpy as np\n",
    "import matplotlib.pyplot as plt\n",
    "import statsmodels.api as sm\n",
    "import warnings\n",
    "warnings.filterwarnings(\"ignore\")\n"
   ]
  },
  {
   "cell_type": "markdown",
   "id": "4b1a2b0a",
   "metadata": {},
   "source": [
    "## 2. Load the Sales Data"
   ]
  },
  {
   "cell_type": "code",
   "execution_count": null,
   "id": "58d5b10f",
   "metadata": {},
   "outputs": [],
   "source": [
    "# Load the sales dataset\n",
    "sales_data = pd.read_csv('sales_data_cardar.csv')\n",
    "sales_data['Date'] = pd.to_datetime(sales_data['Date'])\n",
    "sales_data.head()\n"
   ]
  },
  {
   "cell_type": "markdown",
   "id": "b5b96bc6",
   "metadata": {},
   "source": [
    "## 3. Exploratory Data Analysis"
   ]
  },
  {
   "cell_type": "code",
   "execution_count": null,
   "id": "fd0620bb",
   "metadata": {},
   "outputs": [],
   "source": [
    "plt.figure(figsize=(12, 6))\n",
    "plt.plot(sales_data['Date'], sales_data['Brake Pads'], label='Brake Pads')\n",
    "plt.plot(sales_data['Date'], sales_data['Car Batteries'], label='Car Batteries')\n",
    "plt.plot(sales_data['Date'], sales_data['Air Filters'], label='Air Filters')\n",
    "plt.title('Monthly Sales of Car Parts (CarDar Trading)')\n",
    "plt.xlabel('Date')\n",
    "plt.ylabel('Units Sold')\n",
    "plt.legend()\n",
    "plt.grid(True)\n",
    "plt.show()\n"
   ]
  },
  {
   "cell_type": "markdown",
   "id": "2379680b",
   "metadata": {},
   "source": [
    "## 4. ARIMA Forecasting for Car Batteries"
   ]
  },
  {
   "cell_type": "code",
   "execution_count": null,
   "id": "ec66231b",
   "metadata": {},
   "outputs": [],
   "source": [
    "# Preparing data\n",
    "sales_batteries = sales_data[['Date', 'Car Batteries']].copy()\n",
    "sales_batteries.set_index('Date', inplace=True)\n",
    "\n",
    "# ARIMA Model\n",
    "model = sm.tsa.ARIMA(sales_batteries, order=(1, 1, 1))\n",
    "model_fit = model.fit()\n",
    "\n",
    "# Forecasting\n",
    "forecast_steps = 6\n",
    "forecast = model_fit.forecast(steps=forecast_steps)\n",
    "\n",
    "# Future dates\n",
    "forecast_dates = pd.date_range(start=sales_batteries.index[-1] + pd.DateOffset(months=1), periods=forecast_steps, freq='MS')\n",
    "\n",
    "# Forecast DataFrame\n",
    "forecast_df = pd.DataFrame({\n",
    "    'Date': forecast_dates,\n",
    "    'Forecasted Sales': np.round(forecast).astype(int)\n",
    "})\n",
    "forecast_df\n"
   ]
  },
  {
   "cell_type": "markdown",
   "id": "b0fd5cd8",
   "metadata": {},
   "source": [
    "## 5. Visualize Forecast"
   ]
  },
  {
   "cell_type": "code",
   "execution_count": null,
   "id": "bd4d3324",
   "metadata": {},
   "outputs": [],
   "source": [
    "plt.figure(figsize=(10, 5))\n",
    "plt.plot(sales_batteries.index, sales_batteries['Car Batteries'], label='Historical Sales')\n",
    "plt.plot(forecast_df['Date'], forecast_df['Forecasted Sales'], label='Forecasted Sales', linestyle='--', marker='o')\n",
    "plt.title('Car Batteries Sales Forecast (CarDar Trading)')\n",
    "plt.xlabel('Date')\n",
    "plt.ylabel('Units Sold')\n",
    "plt.legend()\n",
    "plt.grid(True)\n",
    "plt.show()\n"
   ]
  }
 ],
 "metadata": {},
 "nbformat": 4,
 "nbformat_minor": 5
}
